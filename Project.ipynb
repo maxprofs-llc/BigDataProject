{
 "cells": [
  {
   "cell_type": "code",
   "execution_count": 114,
   "metadata": {},
   "outputs": [],
   "source": [
    "import os, json\n",
    "import pandas as pd\n",
    "from pandas.io.json import json_normalize\n",
    "import glob\n",
    "path_to_json = 'C:/Users/srika/Downloads/altmetric_clean_sample/altmetric_clean_sample/'\n",
    "folders=[]\n",
    "for i in os.listdir(path_to_json):\n",
    "    folders.append('C:/Users/srika/Downloads/altmetric_clean_sample/altmetric_clean_sample/' + i)\n",
    "jf=[]\n",
    "for i in folders:\n",
    "    allFiles = glob.glob(i + \"/*.json\")\n",
    "    for j in allFiles:\n",
    "        jf.append(j)\n",
    "data=[]\n",
    "for index, js in enumerate(jf):\n",
    "    with open(os.path.join(path_to_json, js)) as json_file:\n",
    "        json_text = json.load(json_file)\n",
    "        data.append(json_text)"
   ]
  },
  {
   "cell_type": "code",
   "execution_count": 115,
   "metadata": {},
   "outputs": [
    {
     "data": {
      "text/plain": [
       "100000"
      ]
     },
     "execution_count": 115,
     "metadata": {},
     "output_type": "execute_result"
    }
   ],
   "source": [
    "len(data)"
   ]
  },
  {
   "cell_type": "code",
   "execution_count": 189,
   "metadata": {},
   "outputs": [
    {
     "data": {
      "text/html": [
       "<div>\n",
       "<style scoped>\n",
       "    .dataframe tbody tr th:only-of-type {\n",
       "        vertical-align: middle;\n",
       "    }\n",
       "\n",
       "    .dataframe tbody tr th {\n",
       "        vertical-align: top;\n",
       "    }\n",
       "\n",
       "    .dataframe thead th {\n",
       "        text-align: right;\n",
       "    }\n",
       "</style>\n",
       "<table border=\"1\" class=\"dataframe\">\n",
       "  <thead>\n",
       "    <tr style=\"text-align: right;\">\n",
       "      <th></th>\n",
       "      <th>Altmertic Id</th>\n",
       "    </tr>\n",
       "  </thead>\n",
       "  <tbody>\n",
       "    <tr>\n",
       "      <th>0</th>\n",
       "      <td>100080</td>\n",
       "    </tr>\n",
       "    <tr>\n",
       "      <th>1</th>\n",
       "      <td>100163</td>\n",
       "    </tr>\n",
       "    <tr>\n",
       "      <th>2</th>\n",
       "      <td>100180</td>\n",
       "    </tr>\n",
       "    <tr>\n",
       "      <th>3</th>\n",
       "      <td>100181</td>\n",
       "    </tr>\n",
       "    <tr>\n",
       "      <th>4</th>\n",
       "      <td>100206</td>\n",
       "    </tr>\n",
       "  </tbody>\n",
       "</table>\n",
       "</div>"
      ],
      "text/plain": [
       "   Altmertic Id\n",
       "0        100080\n",
       "1        100163\n",
       "2        100180\n",
       "3        100181\n",
       "4        100206"
      ]
     },
     "execution_count": 189,
     "metadata": {},
     "output_type": "execute_result"
    }
   ],
   "source": [
    "df=pd.DataFrame()\n",
    "df['Altmertic Id']=pd.Series([data[i]['altmetric_id'] for i in range(len(data))])\n",
    "df.head()"
   ]
  },
  {
   "cell_type": "code",
   "execution_count": 190,
   "metadata": {},
   "outputs": [
    {
     "data": {
      "text/html": [
       "<div>\n",
       "<style scoped>\n",
       "    .dataframe tbody tr th:only-of-type {\n",
       "        vertical-align: middle;\n",
       "    }\n",
       "\n",
       "    .dataframe tbody tr th {\n",
       "        vertical-align: top;\n",
       "    }\n",
       "\n",
       "    .dataframe thead th {\n",
       "        text-align: right;\n",
       "    }\n",
       "</style>\n",
       "<table border=\"1\" class=\"dataframe\">\n",
       "  <thead>\n",
       "    <tr style=\"text-align: right;\">\n",
       "      <th></th>\n",
       "      <th>Altmertic Id</th>\n",
       "      <th>twitter</th>\n",
       "      <th>facebook</th>\n",
       "      <th>googleplus</th>\n",
       "      <th>reddit</th>\n",
       "      <th>blogs</th>\n",
       "      <th>peer_reviews</th>\n",
       "      <th>news</th>\n",
       "      <th>f1000</th>\n",
       "    </tr>\n",
       "  </thead>\n",
       "  <tbody>\n",
       "    <tr>\n",
       "      <th>0</th>\n",
       "      <td>100080</td>\n",
       "      <td>5</td>\n",
       "      <td>2</td>\n",
       "      <td>0</td>\n",
       "      <td>0</td>\n",
       "      <td>17</td>\n",
       "      <td>0</td>\n",
       "      <td>9</td>\n",
       "      <td>0</td>\n",
       "    </tr>\n",
       "    <tr>\n",
       "      <th>1</th>\n",
       "      <td>100163</td>\n",
       "      <td>4</td>\n",
       "      <td>1</td>\n",
       "      <td>0</td>\n",
       "      <td>1</td>\n",
       "      <td>2</td>\n",
       "      <td>0</td>\n",
       "      <td>2</td>\n",
       "      <td>0</td>\n",
       "    </tr>\n",
       "    <tr>\n",
       "      <th>2</th>\n",
       "      <td>100180</td>\n",
       "      <td>0</td>\n",
       "      <td>0</td>\n",
       "      <td>0</td>\n",
       "      <td>0</td>\n",
       "      <td>1</td>\n",
       "      <td>0</td>\n",
       "      <td>0</td>\n",
       "      <td>0</td>\n",
       "    </tr>\n",
       "    <tr>\n",
       "      <th>3</th>\n",
       "      <td>100181</td>\n",
       "      <td>0</td>\n",
       "      <td>1</td>\n",
       "      <td>0</td>\n",
       "      <td>0</td>\n",
       "      <td>1</td>\n",
       "      <td>0</td>\n",
       "      <td>0</td>\n",
       "      <td>0</td>\n",
       "    </tr>\n",
       "    <tr>\n",
       "      <th>4</th>\n",
       "      <td>100206</td>\n",
       "      <td>0</td>\n",
       "      <td>0</td>\n",
       "      <td>0</td>\n",
       "      <td>0</td>\n",
       "      <td>1</td>\n",
       "      <td>0</td>\n",
       "      <td>0</td>\n",
       "      <td>0</td>\n",
       "    </tr>\n",
       "  </tbody>\n",
       "</table>\n",
       "</div>"
      ],
      "text/plain": [
       "   Altmertic Id  twitter  facebook  googleplus  reddit  blogs  peer_reviews  \\\n",
       "0        100080        5         2           0       0     17             0   \n",
       "1        100163        4         1           0       1      2             0   \n",
       "2        100180        0         0           0       0      1             0   \n",
       "3        100181        0         1           0       0      1             0   \n",
       "4        100206        0         0           0       0      1             0   \n",
       "\n",
       "   news  f1000  \n",
       "0     9      0  \n",
       "1     2      0  \n",
       "2     0      0  \n",
       "3     0      0  \n",
       "4     0      0  "
      ]
     },
     "execution_count": 190,
     "metadata": {},
     "output_type": "execute_result"
    }
   ],
   "source": [
    "import numpy as np\n",
    "cols=['twitter', 'facebook', 'googleplus', 'reddit', 'blogs', 'peer_reviews', 'news', 'f1000']\n",
    "for j in cols:\n",
    "    l=[]\n",
    "    for i in range(len(data)):\n",
    "        try:\n",
    "            l.append(data[i]['counts'][j]['posts_count'])\n",
    "        except KeyError:\n",
    "            l.append(0)\n",
    "    df[j]=pd.Series(l, index=df.index)\n",
    "df.head()"
   ]
  },
  {
   "cell_type": "code",
   "execution_count": 191,
   "metadata": {},
   "outputs": [
    {
     "data": {
      "text/plain": [
       "dict_keys(['twitter', 'facebook', 'policy'])"
      ]
     },
     "execution_count": 191,
     "metadata": {},
     "output_type": "execute_result"
    }
   ],
   "source": [
    "data[99759]['posts'].keys()"
   ]
  },
  {
   "cell_type": "code",
   "execution_count": 192,
   "metadata": {},
   "outputs": [],
   "source": [
    "y=[]\n",
    "count=0\n",
    "for i in range(len(data)):\n",
    "    try:\n",
    "        x=data[i]['posts']['video'][0]['url']\n",
    "        if 'youtube' in x:\n",
    "            y.append(1)\n",
    "        else:\n",
    "            y.append(0)\n",
    "    except KeyError:\n",
    "        y.append(0)\n",
    "    except TypeError:\n",
    "        y.append(0)\n",
    "df['Youtube']=pd.Series(y, index=df.index)"
   ]
  },
  {
   "cell_type": "code",
   "execution_count": 193,
   "metadata": {},
   "outputs": [
    {
     "data": {
      "text/html": [
       "<div>\n",
       "<style scoped>\n",
       "    .dataframe tbody tr th:only-of-type {\n",
       "        vertical-align: middle;\n",
       "    }\n",
       "\n",
       "    .dataframe tbody tr th {\n",
       "        vertical-align: top;\n",
       "    }\n",
       "\n",
       "    .dataframe thead th {\n",
       "        text-align: right;\n",
       "    }\n",
       "</style>\n",
       "<table border=\"1\" class=\"dataframe\">\n",
       "  <thead>\n",
       "    <tr style=\"text-align: right;\">\n",
       "      <th></th>\n",
       "      <th>Altmertic Id</th>\n",
       "      <th>twitter</th>\n",
       "      <th>facebook</th>\n",
       "      <th>googleplus</th>\n",
       "      <th>reddit</th>\n",
       "      <th>blogs</th>\n",
       "      <th>peer_reviews</th>\n",
       "      <th>news</th>\n",
       "      <th>f1000</th>\n",
       "      <th>Youtube</th>\n",
       "    </tr>\n",
       "  </thead>\n",
       "  <tbody>\n",
       "    <tr>\n",
       "      <th>0</th>\n",
       "      <td>100080</td>\n",
       "      <td>5</td>\n",
       "      <td>2</td>\n",
       "      <td>0</td>\n",
       "      <td>0</td>\n",
       "      <td>17</td>\n",
       "      <td>0</td>\n",
       "      <td>9</td>\n",
       "      <td>0</td>\n",
       "      <td>1</td>\n",
       "    </tr>\n",
       "    <tr>\n",
       "      <th>1</th>\n",
       "      <td>100163</td>\n",
       "      <td>4</td>\n",
       "      <td>1</td>\n",
       "      <td>0</td>\n",
       "      <td>1</td>\n",
       "      <td>2</td>\n",
       "      <td>0</td>\n",
       "      <td>2</td>\n",
       "      <td>0</td>\n",
       "      <td>0</td>\n",
       "    </tr>\n",
       "    <tr>\n",
       "      <th>2</th>\n",
       "      <td>100180</td>\n",
       "      <td>0</td>\n",
       "      <td>0</td>\n",
       "      <td>0</td>\n",
       "      <td>0</td>\n",
       "      <td>1</td>\n",
       "      <td>0</td>\n",
       "      <td>0</td>\n",
       "      <td>0</td>\n",
       "      <td>0</td>\n",
       "    </tr>\n",
       "    <tr>\n",
       "      <th>3</th>\n",
       "      <td>100181</td>\n",
       "      <td>0</td>\n",
       "      <td>1</td>\n",
       "      <td>0</td>\n",
       "      <td>0</td>\n",
       "      <td>1</td>\n",
       "      <td>0</td>\n",
       "      <td>0</td>\n",
       "      <td>0</td>\n",
       "      <td>0</td>\n",
       "    </tr>\n",
       "    <tr>\n",
       "      <th>4</th>\n",
       "      <td>100206</td>\n",
       "      <td>0</td>\n",
       "      <td>0</td>\n",
       "      <td>0</td>\n",
       "      <td>0</td>\n",
       "      <td>1</td>\n",
       "      <td>0</td>\n",
       "      <td>0</td>\n",
       "      <td>0</td>\n",
       "      <td>0</td>\n",
       "    </tr>\n",
       "  </tbody>\n",
       "</table>\n",
       "</div>"
      ],
      "text/plain": [
       "   Altmertic Id  twitter  facebook  googleplus  reddit  blogs  peer_reviews  \\\n",
       "0        100080        5         2           0       0     17             0   \n",
       "1        100163        4         1           0       1      2             0   \n",
       "2        100180        0         0           0       0      1             0   \n",
       "3        100181        0         1           0       0      1             0   \n",
       "4        100206        0         0           0       0      1             0   \n",
       "\n",
       "   news  f1000  Youtube  \n",
       "0     9      0        1  \n",
       "1     2      0        0  \n",
       "2     0      0        0  \n",
       "3     0      0        0  \n",
       "4     0      0        0  "
      ]
     },
     "execution_count": 193,
     "metadata": {},
     "output_type": "execute_result"
    }
   ],
   "source": [
    "df.head()"
   ]
  },
  {
   "cell_type": "code",
   "execution_count": 194,
   "metadata": {},
   "outputs": [
    {
     "data": {
      "text/html": [
       "<div>\n",
       "<style scoped>\n",
       "    .dataframe tbody tr th:only-of-type {\n",
       "        vertical-align: middle;\n",
       "    }\n",
       "\n",
       "    .dataframe tbody tr th {\n",
       "        vertical-align: top;\n",
       "    }\n",
       "\n",
       "    .dataframe thead th {\n",
       "        text-align: right;\n",
       "    }\n",
       "</style>\n",
       "<table border=\"1\" class=\"dataframe\">\n",
       "  <thead>\n",
       "    <tr style=\"text-align: right;\">\n",
       "      <th></th>\n",
       "      <th>Altmertic Id</th>\n",
       "      <th>twitter</th>\n",
       "      <th>facebook</th>\n",
       "      <th>googleplus</th>\n",
       "      <th>reddit</th>\n",
       "      <th>blogs</th>\n",
       "      <th>peer_reviews</th>\n",
       "      <th>news</th>\n",
       "      <th>f1000</th>\n",
       "      <th>Youtube</th>\n",
       "      <th>Mendeley</th>\n",
       "    </tr>\n",
       "  </thead>\n",
       "  <tbody>\n",
       "    <tr>\n",
       "      <th>0</th>\n",
       "      <td>100080</td>\n",
       "      <td>5</td>\n",
       "      <td>2</td>\n",
       "      <td>0</td>\n",
       "      <td>0</td>\n",
       "      <td>17</td>\n",
       "      <td>0</td>\n",
       "      <td>9</td>\n",
       "      <td>0</td>\n",
       "      <td>1</td>\n",
       "      <td>133</td>\n",
       "    </tr>\n",
       "    <tr>\n",
       "      <th>1</th>\n",
       "      <td>100163</td>\n",
       "      <td>4</td>\n",
       "      <td>1</td>\n",
       "      <td>0</td>\n",
       "      <td>1</td>\n",
       "      <td>2</td>\n",
       "      <td>0</td>\n",
       "      <td>2</td>\n",
       "      <td>0</td>\n",
       "      <td>0</td>\n",
       "      <td>193</td>\n",
       "    </tr>\n",
       "    <tr>\n",
       "      <th>2</th>\n",
       "      <td>100180</td>\n",
       "      <td>0</td>\n",
       "      <td>0</td>\n",
       "      <td>0</td>\n",
       "      <td>0</td>\n",
       "      <td>1</td>\n",
       "      <td>0</td>\n",
       "      <td>0</td>\n",
       "      <td>0</td>\n",
       "      <td>0</td>\n",
       "      <td>104</td>\n",
       "    </tr>\n",
       "    <tr>\n",
       "      <th>3</th>\n",
       "      <td>100181</td>\n",
       "      <td>0</td>\n",
       "      <td>1</td>\n",
       "      <td>0</td>\n",
       "      <td>0</td>\n",
       "      <td>1</td>\n",
       "      <td>0</td>\n",
       "      <td>0</td>\n",
       "      <td>0</td>\n",
       "      <td>0</td>\n",
       "      <td>11</td>\n",
       "    </tr>\n",
       "    <tr>\n",
       "      <th>4</th>\n",
       "      <td>100206</td>\n",
       "      <td>0</td>\n",
       "      <td>0</td>\n",
       "      <td>0</td>\n",
       "      <td>0</td>\n",
       "      <td>1</td>\n",
       "      <td>0</td>\n",
       "      <td>0</td>\n",
       "      <td>0</td>\n",
       "      <td>0</td>\n",
       "      <td>0</td>\n",
       "    </tr>\n",
       "  </tbody>\n",
       "</table>\n",
       "</div>"
      ],
      "text/plain": [
       "   Altmertic Id  twitter  facebook  googleplus  reddit  blogs  peer_reviews  \\\n",
       "0        100080        5         2           0       0     17             0   \n",
       "1        100163        4         1           0       1      2             0   \n",
       "2        100180        0         0           0       0      1             0   \n",
       "3        100181        0         1           0       0      1             0   \n",
       "4        100206        0         0           0       0      1             0   \n",
       "\n",
       "   news  f1000  Youtube  Mendeley  \n",
       "0     9      0        1       133  \n",
       "1     2      0        0       193  \n",
       "2     0      0        0       104  \n",
       "3     0      0        0        11  \n",
       "4     0      0        0         0  "
      ]
     },
     "execution_count": 194,
     "metadata": {},
     "output_type": "execute_result"
    }
   ],
   "source": [
    "l=[]\n",
    "for i in range(len(data)):\n",
    "    try:\n",
    "        l.append(data[i]['counts']['readers']['mendeley'])\n",
    "    except KeyError:\n",
    "        l.append(0)\n",
    "df['Mendeley']=pd.Series(l, index=df.index)\n",
    "df.head()"
   ]
  },
  {
   "cell_type": "code",
   "execution_count": 195,
   "metadata": {},
   "outputs": [
    {
     "data": {
      "text/html": [
       "<div>\n",
       "<style scoped>\n",
       "    .dataframe tbody tr th:only-of-type {\n",
       "        vertical-align: middle;\n",
       "    }\n",
       "\n",
       "    .dataframe tbody tr th {\n",
       "        vertical-align: top;\n",
       "    }\n",
       "\n",
       "    .dataframe thead th {\n",
       "        text-align: right;\n",
       "    }\n",
       "</style>\n",
       "<table border=\"1\" class=\"dataframe\">\n",
       "  <thead>\n",
       "    <tr style=\"text-align: right;\">\n",
       "      <th></th>\n",
       "      <th>Altmertic Id</th>\n",
       "      <th>twitter</th>\n",
       "      <th>facebook</th>\n",
       "      <th>googleplus</th>\n",
       "      <th>reddit</th>\n",
       "      <th>blogs</th>\n",
       "      <th>peer_reviews</th>\n",
       "      <th>news</th>\n",
       "      <th>f1000</th>\n",
       "      <th>Youtube</th>\n",
       "      <th>Mendeley</th>\n",
       "      <th>Altmetrics_score</th>\n",
       "    </tr>\n",
       "  </thead>\n",
       "  <tbody>\n",
       "    <tr>\n",
       "      <th>0</th>\n",
       "      <td>100080</td>\n",
       "      <td>5</td>\n",
       "      <td>2</td>\n",
       "      <td>0</td>\n",
       "      <td>0</td>\n",
       "      <td>17</td>\n",
       "      <td>0</td>\n",
       "      <td>9</td>\n",
       "      <td>0</td>\n",
       "      <td>1</td>\n",
       "      <td>133</td>\n",
       "      <td>155.080</td>\n",
       "    </tr>\n",
       "    <tr>\n",
       "      <th>1</th>\n",
       "      <td>100163</td>\n",
       "      <td>4</td>\n",
       "      <td>1</td>\n",
       "      <td>0</td>\n",
       "      <td>1</td>\n",
       "      <td>2</td>\n",
       "      <td>0</td>\n",
       "      <td>2</td>\n",
       "      <td>0</td>\n",
       "      <td>0</td>\n",
       "      <td>193</td>\n",
       "      <td>40.376</td>\n",
       "    </tr>\n",
       "    <tr>\n",
       "      <th>2</th>\n",
       "      <td>100180</td>\n",
       "      <td>0</td>\n",
       "      <td>0</td>\n",
       "      <td>0</td>\n",
       "      <td>0</td>\n",
       "      <td>1</td>\n",
       "      <td>0</td>\n",
       "      <td>0</td>\n",
       "      <td>0</td>\n",
       "      <td>0</td>\n",
       "      <td>104</td>\n",
       "      <td>5.048</td>\n",
       "    </tr>\n",
       "    <tr>\n",
       "      <th>3</th>\n",
       "      <td>100181</td>\n",
       "      <td>0</td>\n",
       "      <td>1</td>\n",
       "      <td>0</td>\n",
       "      <td>0</td>\n",
       "      <td>1</td>\n",
       "      <td>0</td>\n",
       "      <td>0</td>\n",
       "      <td>0</td>\n",
       "      <td>0</td>\n",
       "      <td>11</td>\n",
       "      <td>5.626</td>\n",
       "    </tr>\n",
       "    <tr>\n",
       "      <th>4</th>\n",
       "      <td>100206</td>\n",
       "      <td>0</td>\n",
       "      <td>0</td>\n",
       "      <td>0</td>\n",
       "      <td>0</td>\n",
       "      <td>1</td>\n",
       "      <td>0</td>\n",
       "      <td>0</td>\n",
       "      <td>0</td>\n",
       "      <td>0</td>\n",
       "      <td>0</td>\n",
       "      <td>5.048</td>\n",
       "    </tr>\n",
       "  </tbody>\n",
       "</table>\n",
       "</div>"
      ],
      "text/plain": [
       "   Altmertic Id  twitter  facebook  googleplus  reddit  blogs  peer_reviews  \\\n",
       "0        100080        5         2           0       0     17             0   \n",
       "1        100163        4         1           0       1      2             0   \n",
       "2        100180        0         0           0       0      1             0   \n",
       "3        100181        0         1           0       0      1             0   \n",
       "4        100206        0         0           0       0      1             0   \n",
       "\n",
       "   news  f1000  Youtube  Mendeley  Altmetrics_score  \n",
       "0     9      0        1       133           155.080  \n",
       "1     2      0        0       193            40.376  \n",
       "2     0      0        0       104             5.048  \n",
       "3     0      0        0        11             5.626  \n",
       "4     0      0        0         0             5.048  "
      ]
     },
     "execution_count": 195,
     "metadata": {},
     "output_type": "execute_result"
    }
   ],
   "source": [
    "l=[]\n",
    "for i in range(len(data)):\n",
    "    try:\n",
    "        l.append(data[i]['altmetric_score']['score'])\n",
    "    except KeyError:\n",
    "        l.append(0)\n",
    "df['Altmetrics_score']=pd.Series(l, index=df.index)\n",
    "df.head()"
   ]
  },
  {
   "cell_type": "markdown",
   "metadata": {},
   "source": [
    "j=[]\n",
    "for i in range(len(data)):\n",
    "    try:\n",
    "        j.append(data[i]['citation']['publisher'])\n",
    "    except KeyError:\n",
    "        j.append(np.nan)\n",
    "df['publisher']=pd.Series(j, index=df.index)\n",
    "df.head()"
   ]
  },
  {
   "cell_type": "code",
   "execution_count": 196,
   "metadata": {},
   "outputs": [
    {
     "name": "stdout",
     "output_type": "stream",
     "text": [
      "100080 https://www.youtube.com/watch?v=t2Q2T6jQlY0\n",
      "100638 https://www.youtube.com/watch?v=hKwh1IbplKE\n",
      "103123 https://www.youtube.com/watch?v=6dFxu6hrEKk\n",
      "104169 https://www.youtube.com/watch?v=AeWnL0Fa_kg\n",
      "1011451 https://www.youtube.com/watch?v=klRfruVtuvA\n",
      "1019162 https://www.youtube.com/watch?v=-Kxv9fd6E3w\n",
      "1033051 https://www.youtube.com/watch?v=h5gro9Gg9oQ\n",
      "1036322 https://www.youtube.com/watch?v=dr-QaeY7AUA\n",
      "10313512 https://www.youtube.com/watch?v=z6f9vo4Pr44\n",
      "1058783 https://www.youtube.com/watch?v=6cZN1PmNKH4\n",
      "1058916 https://www.youtube.com/watch?v=nEpfS780kQ8\n",
      "10519446 https://www.youtube.com/watch?v=x1ZWrus6qHQ\n",
      "10519449 https://www.youtube.com/watch?v=x1ZWrus6qHQ\n",
      "10519456 https://www.youtube.com/watch?v=iToXSqKh9Jc\n",
      "1065753 https://www.youtube.com/watch?v=UqQKBcGNsxE\n",
      "1069081 https://www.youtube.com/watch?v=wb9SF4VZDQA\n",
      "1075421 https://www.youtube.com/watch?v=zr5o0bp2Lg8\n",
      "1077177 https://www.youtube.com/watch?v=1tlf_ejwqi8\n",
      "10734040 https://www.youtube.com/watch?v=MQYOsy_AC_U\n",
      "10794258 https://www.youtube.com/watch?v=0PmuTmg1Kh0\n",
      "1082551 https://www.youtube.com/watch?v=fXI9Ew28R38\n",
      "10806298 https://www.youtube.com/watch?v=qOs-eeVJPTk\n",
      "1096975 https://www.youtube.com/watch?v=URP2WJ6st-E\n",
      "10966429 https://www.youtube.com/watch?v=IaH6SJGlE0U\n",
      "10991509 https://www.youtube.com/watch?v=E-bFmFVEITs\n",
      "110387 https://www.youtube.com/watch?v=glFgDAw7V8s\n",
      "113200 https://www.youtube.com/watch?v=uKCw6tLVFsw\n",
      "114069 https://www.youtube.com/watch?v=alVhEO0AoXs\n",
      "114107 https://www.youtube.com/watch?v=-kEMHYA0SNs\n",
      "1108095 https://www.youtube.com/watch?v=Y2gTSjoEExc\n",
      "11029435 https://www.youtube.com/watch?v=6ceuPsUlCvg\n",
      "1113838 https://www.youtube.com/watch?v=rwfUhV7D0IM\n",
      "1125590 https://www.youtube.com/watch?v=01fGHg1x-J8\n",
      "1126192 https://www.youtube.com/watch?v=AFMKnNJosWk\n",
      "1134300 https://www.youtube.com/watch?v=24H6h9mWbl8\n",
      "1176356 https://www.youtube.com/watch?v=z05SCCt56NM\n",
      "11782422 https://www.youtube.com/watch?v=sfHv2YET3HI\n",
      "1198856 https://www.youtube.com/watch?v=yQOUYYI_X3g\n",
      "121080 https://www.youtube.com/watch?v=yNxhuxV7FV4\n",
      "126585 https://www.youtube.com/watch?v=AN41zgn026E\n",
      "126921 https://www.youtube.com/watch?v=vFiHBF3uzhI\n",
      "12035761 https://www.youtube.com/watch?v=f9u3dXCK2Sk\n",
      "12043293 https://www.youtube.com/watch?v=AfZK1U2foyE\n",
      "12043370 https://www.youtube.com/watch?v=-P-tDMr50mk\n",
      "1216013 https://www.youtube.com/watch?v=GPO-Ng0e4gM\n",
      "1219458 https://www.youtube.com/watch?v=ypKL01mk9Rk\n",
      "12124314 https://www.youtube.com/watch?v=z90FPL_PQ2Q\n",
      "12254165 https://www.youtube.com/watch?v=YyUxaNw9aBM\n",
      "12254170 https://www.youtube.com/watch?v=YyUxaNw9aBM\n",
      "12254757 https://www.youtube.com/watch?v=OS_U5-enDrg\n",
      "12301155 https://www.youtube.com/watch?v=k2HrXCAZd3Q\n",
      "12339585 https://www.youtube.com/watch?v=1i2yFPhOMAI\n",
      "12408686 https://www.youtube.com/watch?v=rIkNotUAuNQ\n",
      "12419588 https://www.youtube.com/watch?v=VHVm10BORSo\n",
      "12432612 https://www.youtube.com/watch?v=yigA2O7vwgU\n",
      "12482251 https://www.youtube.com/watch?v=T5YdDanG5qQ\n",
      "12577108 https://www.youtube.com/watch?v=XR2A8FfmLE8\n",
      "12678840 https://www.youtube.com/watch?v=F1z0W-t1epo\n",
      "1282964 https://www.youtube.com/watch?v=_-zhzcVnNOM\n",
      "1286988 https://www.youtube.com/watch?v=AKUKp-730mU\n",
      "1295606 https://www.youtube.com/watch?v=QvC6vvEoGo0\n",
      "1297465 https://www.youtube.com/watch?v=fHixk52LvRY\n",
      "1299626 https://www.youtube.com/watch?v=RJpb0XEGvHM\n",
      "130816 https://www.youtube.com/watch?v=qczRzcqxoIo\n",
      "1304384 https://www.youtube.com/watch?v=-A5COnGZl7o\n",
      "13009674 https://www.youtube.com/watch?v=TucMPy9TkK8\n",
      "1313262 https://www.youtube.com/watch?v=2qcrSm1PxJU\n",
      "13131561 https://www.youtube.com/watch?v=gb1Trcl7ILg\n",
      "13193830 https://www.youtube.com/watch?v=rl332qUxrb8\n",
      "13318273 https://www.youtube.com/watch?v=4EVogZ_4U8k\n",
      "1340921 https://www.youtube.com/watch?v=A6Ab_D8B6iA\n",
      "1341254 https://www.youtube.com/watch?v=YKfVtjuA7DM\n",
      "1341531 https://www.youtube.com/watch?v=KaGdtYDIIaY\n",
      "1341648 https://www.youtube.com/watch?v=vtM8zKnrPQU\n",
      "1341809 https://www.youtube.com/watch?v=ZhgsFS_cV0c\n",
      "1342445 https://www.youtube.com/watch?v=h7vHTKixbGI\n",
      "1342470 https://www.youtube.com/watch?v=ozkYMM3-1Xw\n",
      "1342501 https://www.youtube.com/watch?v=jsBEfKxVTbU\n",
      "1342660 https://www.youtube.com/watch?v=fvotngIfzKM\n",
      "1342833 https://www.youtube.com/watch?v=6T_82rTfXPw\n",
      "1343335 https://www.youtube.com/watch?v=FuO7DkZ9Kdo\n",
      "1343358 https://www.youtube.com/watch?v=dRCmGozcnNI\n",
      "1343753 https://www.youtube.com/watch?v=zN4v8E6UUXc\n",
      "1343902 https://www.youtube.com/watch?v=dme5o5Ldm5U\n",
      "1344059 https://www.youtube.com/watch?v=QyazC64RG9E\n",
      "1344166 https://www.youtube.com/watch?v=1aaF0-pKPDI\n",
      "1344207 https://www.youtube.com/watch?v=SbBbQPhj57g\n",
      "1344596 https://www.youtube.com/watch?v=COIGHiMveG4\n",
      "1344648 https://www.youtube.com/watch?v=Sr3gOvfGvWQ\n",
      "1344897 https://www.youtube.com/watch?v=3i1hpSmvg38\n",
      "1344969 https://www.youtube.com/watch?v=4Z6do-kehi0\n",
      "1345268 https://www.youtube.com/watch?v=hDIpcFHSqr0\n",
      "1345546 https://www.youtube.com/watch?v=W5lYJGu3Vo4\n",
      "1345612 https://www.youtube.com/watch?v=j-9wOuqbIwQ\n",
      "1355148 https://www.youtube.com/watch?v=_htNx0eWmgs\n",
      "1355418 https://www.youtube.com/watch?v=B6I6RaaEhHQ\n",
      "1356503 https://www.youtube.com/watch?v=_w3JHkIFkSg\n",
      "1358679 https://www.youtube.com/watch?v=Y5T9wwjHDjw\n",
      "13685308 https://www.youtube.com/watch?v=aa3sL7vTyWA\n",
      "1370610 https://www.youtube.com/watch?v=ma7ENlz6cO4\n",
      "1372489 https://www.youtube.com/watch?v=WMUeHomq48w\n",
      "1372595 https://www.youtube.com/watch?v=A4RdQzZyedo\n",
      "1372641 https://www.youtube.com/watch?v=Pq0Awccfero\n",
      "1372667 https://www.youtube.com/watch?v=RJpb0XEGvHM\n",
      "1373090 https://www.youtube.com/watch?v=qmTqDvyHyNg\n",
      "1374985 https://www.youtube.com/watch?v=msH-nlVJJKM\n",
      "13862365 https://www.youtube.com/watch?v=EEKJQIDvH9o\n",
      "13887980 https://www.youtube.com/watch?v=1ttSuEJRR-o\n",
      "1392614 https://www.youtube.com/watch?v=tf73yws1lSE\n",
      "13922048 https://www.youtube.com/watch?v=z2bEmnP0BV4\n",
      "1404182 https://www.youtube.com/watch?v=qTU49p-uuqI\n",
      "1404641 https://www.youtube.com/watch?v=UMdEBa6UMtY\n",
      "1406314 https://www.youtube.com/watch?v=Hcstx9Ez2cs\n",
      "14123894 https://www.youtube.com/watch?v=7rnmpDVi8r0\n",
      "14248196 https://www.youtube.com/watch?v=EEy8PC2Tyxo\n",
      "14260465 https://www.youtube.com/watch?v=LeZV8LMtHZs\n",
      "14266285 https://www.youtube.com/watch?v=H9oxUW5DQ_E\n",
      "1443987 https://www.youtube.com/watch?v=edgU8JF3lxw\n",
      "1446577 https://www.youtube.com/watch?v=WXnmM-uCqAg\n",
      "1455430 https://www.youtube.com/watch?v=FNqeqldK6aQ\n",
      "14560996 https://www.youtube.com/watch?v=h_wVOMtKs_M\n",
      "14571086 https://www.youtube.com/watch?v=6qwcdm09glM\n",
      "1462433 https://www.youtube.com/watch?v=dNgLrHGymYc\n",
      "1463408 https://www.youtube.com/watch?v=aERoEhiIFnw\n",
      "1468653 https://www.youtube.com/watch?v=aF0Gn3LENTM\n",
      "1469083 https://www.youtube.com/watch?v=kS95oLg444o\n",
      "14695765 https://www.youtube.com/watch?v=eWfoURVtsNw\n",
      "1475841 https://www.youtube.com/watch?v=GecBXqr_wik\n",
      "14767133 https://www.youtube.com/watch?v=cfR2jNhBWI0\n",
      "1482334 https://www.youtube.com/watch?v=F24uT8MJP9k\n",
      "1482668 https://www.youtube.com/watch?v=yoBMBqSBHBY\n",
      "1489160 https://www.youtube.com/watch?v=YdXUaq6sZ70\n",
      "14944761 https://www.youtube.com/watch?v=STP3W1SZbIk\n",
      "14985022 https://www.youtube.com/watch?v=kamBvAaemhw\n",
      "15065368 https://www.youtube.com/watch?v=BisGq9AzEGM\n",
      "15084055 https://www.youtube.com/watch?v=uTWVUlH7IjE\n",
      "15084057 https://www.youtube.com/watch?v=hr3BHnz0O50\n",
      "1515481 https://www.youtube.com/watch?v=tTH9dHUmLcY\n",
      "1517667 https://www.youtube.com/watch?v=Lku4Ft_CaDw\n",
      "1519985 https://www.youtube.com/watch?v=No7_fPhMWxc\n",
      "15127688 https://www.youtube.com/watch?v=0wXL7xPkooc\n",
      "15143086 https://www.youtube.com/watch?v=BlkGgF2bwDY\n",
      "15144839 https://www.youtube.com/watch?v=nIn3yEhqE4o\n",
      "1524672 https://www.youtube.com/watch?v=Qc9Ewiv4uQk\n",
      "15237303 https://www.youtube.com/watch?v=jJRpLKtgDek\n",
      "15250988 https://www.youtube.com/watch?v=SOy0rJfN4_g\n",
      "1532085 https://www.youtube.com/watch?v=VSTLHBrTgD4\n",
      "15331974 https://www.youtube.com/watch?v=wnHQftVSCYk\n",
      "15333788 https://www.youtube.com/watch?v=p3R4T8hkiTQ\n",
      "15336330 https://www.youtube.com/watch?v=bwPt9FjsUgQ\n",
      "1540294 https://www.youtube.com/watch?v=CeEDFv8HCgw\n",
      "1542781 https://www.youtube.com/watch?v=N9uzJEfnGbQ\n",
      "1545027 https://www.youtube.com/watch?v=TW30mOTCVoU\n",
      "1550633 https://www.youtube.com/watch?v=Ay2cb5rSasQ\n",
      "1554018 https://www.youtube.com/watch?v=5hzFq695XzE\n",
      "1554106 https://www.youtube.com/watch?v=g5Edw99PgzQ\n",
      "1555004 https://www.youtube.com/watch?v=IYVGRmZaSHk\n",
      "1556912 https://www.youtube.com/watch?v=wvan9AqFkLI\n",
      "1556956 https://www.youtube.com/watch?v=yt2eaBRZ-sg\n",
      "1557054 https://www.youtube.com/watch?v=sfjN15zsPyQ\n",
      "1557073 https://www.youtube.com/watch?v=Z68L7amLAX8\n",
      "1559137 https://www.youtube.com/watch?v=JE_gnp1a8_o\n",
      "15522361 https://www.youtube.com/watch?v=wsPwWI3hOUU\n",
      "15543076 https://www.youtube.com/watch?v=MlV4oHjtlcw\n",
      "15665561 https://www.youtube.com/watch?v=-h2iERZZQp4\n",
      "15666720 https://www.youtube.com/watch?v=8zg19Pu3rHY\n",
      "1576704 https://www.youtube.com/watch?v=dP2BEKG5QAk\n",
      "15833879 https://www.youtube.com/watch?v=mCM3UpkRms8\n",
      "15865390 https://www.youtube.com/watch?v=qNPZ_Xuvmt4\n",
      "15872433 https://www.youtube.com/watch?v=NaVJMwHdmWE\n",
      "15911798 https://www.youtube.com/watch?v=v6vkmsh1PNs\n",
      "15981162 https://www.youtube.com/watch?v=rUm3YmYydCY\n",
      "168720 https://www.youtube.com/watch?v=5ujxib4cE3Q\n",
      "1602356 https://www.youtube.com/watch?v=Y8-JzqnwZsM\n",
      "1604657 https://www.youtube.com/watch?v=YnWTwn5D1-E\n",
      "16032996 https://www.youtube.com/watch?v=Wscyb--TS1M\n",
      "16071904 https://www.youtube.com/watch?v=eYAfu1mdSSE\n",
      "16075206 https://www.youtube.com/watch?v=LruXKbycV5k\n",
      "1612935 https://www.youtube.com/watch?v=MI9oOHrVI5M\n",
      "16145023 https://www.youtube.com/watch?v=I9v8M9ud7bQ\n",
      "16200602 https://www.youtube.com/watch?v=ZEEPoB-BAnk\n",
      "16245722 https://www.youtube.com/watch?v=8cFYOuPD_eY\n",
      "16258557 https://www.youtube.com/watch?v=dR3PhmUXrRE\n",
      "1638248 https://www.youtube.com/watch?v=7x036dHfNy8\n",
      "16358269 https://www.youtube.com/watch?v=0T8NhuxhafA\n",
      "1640187 https://www.youtube.com/watch?v=V5wn6e66PWo\n",
      "1642817 https://www.youtube.com/watch?v=xNbzw8T7rhc\n",
      "1648185 https://www.youtube.com/watch?v=ZbcruwQtsTg\n",
      "16456258 https://www.youtube.com/watch?v=XVrTgULSAAY\n",
      "1651130 https://www.youtube.com/watch?v=Iah_EhGTAZ4\n",
      "16575614 https://www.youtube.com/watch?v=6ECGPb2gsPM\n",
      "1671110 https://www.youtube.com/watch?v=p0ua9sMK6V4\n",
      "1679660 https://www.youtube.com/watch?v=KQDdzeP9be4\n",
      "16713779 https://www.youtube.com/watch?v=EkVIR4iW3NE\n",
      "1686875 https://www.youtube.com/watch?v=XHJEr6e94Wg\n",
      "16809860 https://www.youtube.com/watch?v=bQH3h7Ta0R8\n",
      "16847195 https://www.youtube.com/watch?v=i254MOs_iUI\n",
      "16870086 https://www.youtube.com/watch?v=JbBRjHNo23M\n",
      "170843 https://www.youtube.com/watch?v=WXcwn8qZSPg\n",
      "171687 https://www.youtube.com/watch?v=vky0hQp6WD0\n",
      "178703 https://www.youtube.com/watch?v=TFQJZp0Ql3A\n",
      "17078761 https://www.youtube.com/watch?v=PWyMKB64SN0\n",
      "1715451 https://www.youtube.com/watch?v=fnVNCKg1euQ\n",
      "1716257 https://www.youtube.com/watch?v=i9fIIZRfWuo\n",
      "17339226 https://www.youtube.com/watch?v=-tpi4YHm08o\n",
      "17376316 https://www.youtube.com/watch?v=fZ21J4-lLKE\n",
      "17388592 https://www.youtube.com/watch?v=qepRiZYpHc4\n",
      "1740588 https://www.youtube.com/watch?v=VEMtc1w4z6c\n",
      "17438971 https://www.youtube.com/watch?v=BaSiT2g4w1Y\n",
      "1766199 https://www.youtube.com/watch?v=0ni4YC9e6OM\n",
      "1779269 https://www.youtube.com/watch?v=7p5oObxIVcc\n",
      "17853554 https://www.youtube.com/watch?v=ZMg72klIEuw\n",
      "17855993 https://www.youtube.com/watch?v=zxMKQzkD0LU\n",
      "1791330 https://www.youtube.com/watch?v=pS4rU7FcFjs\n",
      "183188 https://www.youtube.com/watch?v=s8vyIyp6FBk\n",
      "186235 https://www.youtube.com/watch?v=dCnhgBLkL0U\n",
      "18097571 https://www.youtube.com/watch?v=qBp5oPnXpGE\n",
      "1814253 https://www.youtube.com/watch?v=LTEc9u7yncs\n",
      "1816022 https://www.youtube.com/watch?v=9atvbbzyEco\n",
      "1821674 https://www.youtube.com/watch?v=O_9Bbhi4aHM\n",
      "1827196 https://www.youtube.com/watch?v=jnYZSyz6BOg\n",
      "18289070 https://www.youtube.com/watch?v=bVWREhJM094\n",
      "1831291 https://www.youtube.com/watch?v=KXbDYjUFqyw\n",
      "1837255 https://www.youtube.com/watch?v=7x3qPTkjBe8\n",
      "18310743 https://www.youtube.com/watch?v=sAxuIrYXANE\n",
      "18344625 https://www.youtube.com/watch?v=LzuW7CCc2nY\n",
      "1844124 https://www.youtube.com/watch?v=z1sj1BZmXJQ\n",
      "1844408 https://www.youtube.com/watch?v=dL2-arxxaeo\n",
      "18432329 https://www.youtube.com/watch?v=haCLYiVqzsY\n",
      "18487010 https://www.youtube.com/watch?v=JAOckj9hF9E\n",
      "1860241 https://www.youtube.com/watch?v=o3NfarvbZ_E\n",
      "1865723 https://www.youtube.com/watch?v=Bv4IFj9Hefc\n",
      "18724109 https://www.youtube.com/watch?v=L32mAiLXnLs\n",
      "1885051 https://www.youtube.com/watch?v=9fsVOjW9tG0\n",
      "1890848 https://www.youtube.com/watch?v=GVb-602uKwM\n",
      "1897341 https://www.youtube.com/watch?v=IMZwq3vOGr4\n",
      "18909398 https://www.youtube.com/watch?v=yY3qHsHVvYs\n",
      "192337 https://www.youtube.com/watch?v=NXR0BUGhHSI\n",
      "193546 https://www.youtube.com/watch?v=7FWG0TSlUnQ\n",
      "195103 https://www.youtube.com/watch?v=sePKGeVPwZQ\n",
      "195517 https://www.youtube.com/watch?v=OAB0jU0KiEE\n",
      "1908599 https://www.youtube.com/watch?v=rkwCz8mT_ok\n",
      "1917404 https://www.youtube.com/watch?v=2S59uR9J-ec\n",
      "1918446 https://www.youtube.com/watch?v=2b6nnBU-weE\n",
      "1927213 https://www.youtube.com/watch?v=JOr_BPUvpmQ\n",
      "1928853 https://www.youtube.com/watch?v=lpPb742rBs0\n",
      "19205773 https://www.youtube.com/watch?v=7S__aIQFRlU\n",
      "1939857 https://www.youtube.com/watch?v=LzEWuoQSXkY\n",
      "1945520 https://www.youtube.com/watch?v=IZ3rs-B7-6E\n",
      "19493877 https://www.youtube.com/watch?v=j_u7DVZJ5Dk\n",
      "1959260 https://www.youtube.com/watch?v=u9qvE4yBS0w\n",
      "1961101 https://www.youtube.com/watch?v=qBakQ4UZGfk\n",
      "1969825 https://www.youtube.com/watch?v=4gEccJGtxZA\n",
      "19662409 https://www.youtube.com/watch?v=03shoWXAiZM\n",
      "1971685 https://www.youtube.com/watch?v=M6LypPhQFug\n",
      "1972955 https://www.youtube.com/watch?v=oZ0Xy16nRAk\n",
      "19782053 https://www.youtube.com/watch?v=81b2Q0SVACs\n",
      "1984046 https://www.youtube.com/watch?v=o7g_K_ANibs\n",
      "19830588 https://www.youtube.com/watch?v=WIT37Y8xKOA\n",
      "19956537 https://www.youtube.com/watch?v=QMhMcIR6OyQ\n",
      "19956782 https://www.youtube.com/watch?v=UGcTsb_A0V8\n",
      "19957641 https://www.youtube.com/watch?v=4RVguGV8Fro\n",
      "19970733 https://www.youtube.com/watch?v=XJZM_vufXiM\n",
      "204453 https://www.youtube.com/watch?v=zKwnMCEp3HM\n",
      "207125 https://www.youtube.com/watch?v=kBMD7q14olg\n",
      "20035043 https://www.youtube.com/watch?v=7D6-JcK_yt4\n",
      "2014721 https://www.youtube.com/watch?v=13gQd30THTk\n",
      "20167295 https://www.youtube.com/watch?v=HhE-04-hqRM\n",
      "2024238 https://www.youtube.com/watch?v=u3Wakhwbmxs\n",
      "2027425 https://www.youtube.com/watch?v=eLvXlD8GdOs\n",
      "20255848 https://www.youtube.com/watch?v=Hkp30u0aidc\n",
      "20296607 https://www.youtube.com/watch?v=sZ5wMZE9_QQ\n",
      "20299103 https://www.youtube.com/watch?v=XeGotDCHTh0\n",
      "2031171 https://www.youtube.com/watch?v=Rztm-lk0R4Y\n",
      "2033971 https://www.youtube.com/watch?v=6_xEraQWvgM\n",
      "2034074 https://www.youtube.com/watch?v=xJG_3kz8gl4\n",
      "2038148 https://www.youtube.com/watch?v=Hf1OpWEgZyE\n",
      "2042431 https://www.youtube.com/watch?v=b8zsjCWomC8\n",
      "2046940 https://www.youtube.com/watch?v=MWpMiIG7uhQ\n",
      "2048097 https://www.youtube.com/watch?v=TZNx2K9zb9k\n",
      "20405825 https://www.youtube.com/watch?v=hYUmsizsMiQ\n",
      "20411263 https://www.youtube.com/watch?v=bWgqvDIlZlI\n",
      "2073308 https://www.youtube.com/watch?v=bQNUqEj9uig\n",
      "20776900 https://www.youtube.com/watch?v=ZBmXcYjgwcg\n",
      "2080460 https://www.youtube.com/watch?v=rmsGzGkeUPI\n",
      "2082266 https://www.youtube.com/watch?v=5e8suFBH1CI\n",
      "2091578 https://www.youtube.com/watch?v=v7iMCiz57FQ\n",
      "2096154 https://www.youtube.com/watch?v=rwervus7INk\n",
      "213841 https://www.youtube.com/watch?v=6cZN1PmNKH4\n",
      "214910 https://www.youtube.com/watch?v=3f0v8aiD_-U\n",
      "215269 https://www.youtube.com/watch?v=tPCaV6C-alE\n",
      "216372 https://www.youtube.com/watch?v=Ai8gbtspFM0\n",
      "219738 https://www.youtube.com/watch?v=v4ePpLoS6xw\n",
      "2109872 https://www.youtube.com/watch?v=P8ClUdZWPnY\n",
      "2109958 https://www.youtube.com/watch?v=qXfKuXy__5Y\n",
      "21052963 https://www.youtube.com/watch?v=DpxSK8nbDPo\n",
      "2113495 https://www.youtube.com/watch?v=opJbSm8hdLs\n",
      "2123664 https://www.youtube.com/watch?v=gPbb-Ai5CQs\n",
      "2125279 https://www.youtube.com/watch?v=VY7n8_wVufo\n",
      "21368106 https://www.youtube.com/watch?v=swYL7vD9kMA\n",
      "2152604 https://www.youtube.com/watch?v=8uJpoeUZn54\n",
      "2154636 https://www.youtube.com/watch?v=9fM-TjWoIDE\n",
      "2157888 https://www.youtube.com/watch?v=6GuP_JgZVvs\n",
      "21580438 https://www.youtube.com/watch?v=VZTIyOomZwo\n",
      "21589060 https://www.youtube.com/watch?v=tTH9dHUmLcY\n",
      "21661973 https://www.youtube.com/watch?v=cRR7WbggWfY\n",
      "21666277 https://www.youtube.com/watch?v=BtC9yPaC_W4\n",
      "2174736 https://www.youtube.com/watch?v=MRpCo2f6Ew4\n",
      "2179887 https://www.youtube.com/watch?v=mKqhtMCs5Ko\n",
      "2179953 https://www.youtube.com/watch?v=Obbp5FR7YI4\n",
      "225382 https://www.youtube.com/watch?v=MnvSAES-pHw\n",
      "22006597 https://www.youtube.com/watch?v=sVONOLnoczE\n",
      "2215385 https://www.youtube.com/watch?v=MKKgpZoZ0Y0\n",
      "2221077 https://www.youtube.com/watch?v=2GkEkKS6dHc\n",
      "2227312 https://www.youtube.com/watch?v=gPjsTP-wIM4\n",
      "22228733 https://www.youtube.com/watch?v=63qqFcQBEVI\n",
      "2252405 https://www.youtube.com/watch?v=46LU6AxB1go\n",
      "22579458 https://www.youtube.com/watch?v=k_JhRVlIR-c\n",
      "22583487 https://www.youtube.com/watch?v=xS1a_Dvt61A\n",
      "2261314 https://www.youtube.com/watch?v=zmadNvrHpD8\n",
      "2277309 https://www.youtube.com/watch?v=_qixWYnrMlE\n",
      "233897 https://www.youtube.com/watch?v=OGQo-iLMx0M\n",
      "2304993 https://www.youtube.com/watch?v=zL_7CdZUDjY\n",
      "2326966 https://www.youtube.com/watch?v=JyVXWH87jXo\n",
      "2337107 https://www.youtube.com/watch?v=J2VVfG3HX6I\n",
      "23326137 https://www.youtube.com/watch?v=XNgp4vtyDRI\n",
      "23373167 https://www.youtube.com/watch?v=k_ptFxtzuCg\n",
      "23393486 https://www.youtube.com/watch?v=KSnY-vUFOmo\n",
      "23447021 https://www.youtube.com/watch?v=W32KQehHmKI\n",
      "2361546 https://www.youtube.com/watch?v=AQfLa3TSmRA\n",
      "2381448 https://www.youtube.com/watch?v=mVtdnfVeeEQ\n",
      "23867039 https://www.youtube.com/watch?v=oYByCLe3XWc\n",
      "2391118 https://www.youtube.com/watch?v=OXuw4i1Qfhk\n",
      "2399893 https://www.youtube.com/watch?v=8CncAXA1byo\n",
      "242932 https://www.youtube.com/watch?v=kg0NB7G44hk\n",
      "2400335 https://www.youtube.com/watch?v=8hq6tPkxYZo\n",
      "2407062 https://www.youtube.com/watch?v=uaNHUTIbqdo\n",
      "2407611 https://www.youtube.com/watch?v=Ir4y--ksHgs\n",
      "2407656 https://www.youtube.com/watch?v=e5a3vds08Vc\n",
      "24076550 https://www.youtube.com/watch?v=2Uelub08HZs\n",
      "2418972 https://www.youtube.com/watch?v=3Y7EPyfPS38\n",
      "24143705 https://www.youtube.com/watch?v=bmG3cXOthtU\n",
      "24143718 https://www.youtube.com/watch?v=bmG3cXOthtU\n",
      "2425401 https://www.youtube.com/watch?v=N7CgfshcfU8\n",
      "2434717 https://www.youtube.com/watch?v=tTOVDCNvheE\n",
      "2439763 https://www.youtube.com/watch?v=2hBu0vNGUKM\n",
      "2441456 https://www.youtube.com/watch?v=0flD2kDslK0\n",
      "2447626 https://www.youtube.com/watch?v=NcisNqBsHTE\n",
      "2460560 https://www.youtube.com/watch?v=8FaCWrC22Gc\n",
      "2470151 https://www.youtube.com/watch?v=2ubHNyJfHzU\n",
      "2479151 https://www.youtube.com/watch?v=-gei4_8ZAvo\n",
      "24864559 https://www.youtube.com/watch?v=3J5jT4gft24\n",
      "256135 https://www.youtube.com/watch?v=3mNVX0mOJoM\n",
      "257295 https://www.youtube.com/watch?v=HP0UPkMF1gA\n",
      "2501821 https://www.youtube.com/watch?v=6wjYUrXB3Fs\n",
      "2501876 https://www.youtube.com/watch?v=wxeUEP8lBDQ\n",
      "2501926 https://www.youtube.com/watch?v=vo_FAuXVPoc\n",
      "2502921 https://www.youtube.com/watch?v=TU8T9VJbKoA\n",
      "2503581 https://www.youtube.com/watch?v=PUT94uhMH4M\n",
      "2508367 https://www.youtube.com/watch?v=g3JTZObWGFA\n",
      "2518708 https://www.youtube.com/watch?v=ne__JULcFIU\n",
      "2532297 https://www.youtube.com/watch?v=bDXcwdzDhyI\n",
      "2532499 https://www.youtube.com/watch?v=yeGOeG22hP8\n",
      "2535368 https://www.youtube.com/watch?v=2i4fMK8XxBE\n",
      "2544362 https://www.youtube.com/watch?v=A93SbswJ3Vg\n",
      "2558221 https://www.youtube.com/watch?v=VGL7upaCP-k\n",
      "2561752 https://www.youtube.com/watch?v=eSjJ657zvLs\n",
      "2564397 https://www.youtube.com/watch?v=GtfTb4uL6eY\n",
      "2564719 https://www.youtube.com/watch?v=cBxM73SpYcQ\n",
      "2572342 https://www.youtube.com/watch?v=PePTyXutz_Q\n",
      "2589559 https://www.youtube.com/watch?v=Al-g07SCTcU\n",
      "2597306 https://www.youtube.com/watch?v=inRv-WxKJaA\n",
      "269082 https://www.youtube.com/watch?v=YfaUQCp6L1s\n",
      "269933 https://www.youtube.com/watch?v=sZN1kljfBdc\n",
      "2640209 https://www.youtube.com/watch?v=GqrDCnxr3cY\n",
      "2678583 https://www.youtube.com/watch?v=bQIoG3p4frU\n",
      "26704936 https://www.youtube.com/watch?v=rTSgWurgtJs\n",
      "2682760 https://www.youtube.com/watch?v=rTJ2fSbFKmE\n",
      "2687765 https://www.youtube.com/watch?v=mwwSua-mmOw\n",
      "2710446 https://www.youtube.com/watch?v=dPRqIR1NIko\n",
      "2721097 https://www.youtube.com/watch?v=50zJvQ43iTM\n",
      "2721896 https://www.youtube.com/watch?v=4r1bTEDcPkA\n",
      "2728369 https://www.youtube.com/watch?v=kiv6aX7cB4M\n",
      "2728470 https://www.youtube.com/watch?v=Mjr9h_QmdeM\n",
      "2752307 https://www.youtube.com/watch?v=KIRSE3WtYII\n",
      "2760899 https://www.youtube.com/watch?v=ZVxfYeffPSQ\n",
      "2787926 https://www.youtube.com/watch?v=917GIZAhCgI\n",
      "2803722 https://www.youtube.com/watch?v=sqgVkwjUfuU\n",
      "2831350 https://www.youtube.com/watch?v=jYIj6AZIsGM\n",
      "2837856 https://www.youtube.com/watch?v=xofhzc1NZ8s\n",
      "2846793 https://www.youtube.com/watch?v=_EEMS1U3K38\n",
      "2864706 https://www.youtube.com/watch?v=8JrevHbZyD8\n",
      "2895278 https://www.youtube.com/watch?v=a1cJK-lLhSs\n",
      "2900613 https://www.youtube.com/watch?v=OarVBzTm0-o\n",
      "2902319 https://www.youtube.com/watch?v=MzHLAqyO7PQ\n",
      "2922917 https://www.youtube.com/watch?v=DEVZYUg-LPY\n",
      "3004276 https://www.youtube.com/watch?v=9sY2LxPcA3Q\n",
      "3008684 https://www.youtube.com/watch?v=DBCaXD-GGhs\n",
      "3026483 https://www.youtube.com/watch?v=8qq6W02G4EY\n",
      "3030692 https://www.youtube.com/watch?v=XeyGjmB6FVE\n",
      "3043706 https://www.youtube.com/watch?v=6qL6_UyTc80\n",
      "3061632 https://www.youtube.com/watch?v=LiZlBspV2-M\n",
      "3072324 https://www.youtube.com/watch?v=7l1TX5YJxUE\n",
      "3078727 https://www.youtube.com/watch?v=Cvi0yVVgYxs\n",
      "3097198 https://www.youtube.com/watch?v=UnxbtQbPqYY\n",
      "3101963 https://www.youtube.com/watch?v=5I43lxk-ycI\n",
      "3107955 https://www.youtube.com/watch?v=Chl50yIVz-8\n",
      "3113612 https://www.youtube.com/watch?v=9O6_Z0x79HU\n",
      "3118335 https://www.youtube.com/watch?v=jFByKk72ywg\n",
      "3121296 https://www.youtube.com/watch?v=xduLATbKbkg\n",
      "3146205 https://www.youtube.com/watch?v=dFzL_LkETTA\n",
      "3152744 https://www.youtube.com/watch?v=7HC-7LZcNCg\n",
      "3221677 https://www.youtube.com/watch?v=_Or0DIQxYsY\n",
      "3228973 https://www.youtube.com/watch?v=L7MB1IMTuJ0\n",
      "3246483 https://www.youtube.com/watch?v=2u0sKBtxgCw\n",
      "3310414 https://www.youtube.com/watch?v=NOaCqRvzMXQ\n",
      "3313011 https://www.youtube.com/watch?v=tRwGygElNMQ\n",
      "3377588 https://www.youtube.com/watch?v=DyrTYDpQO6s\n",
      "3397442 https://www.youtube.com/watch?v=ZA86Bn6kVNg\n",
      "3412488 https://www.youtube.com/watch?v=KJNvayNhN-g\n",
      "3414776 https://www.youtube.com/watch?v=wS1rWqqwNAA\n",
      "3442709 https://www.youtube.com/watch?v=Vg1DZkklPRg\n",
      "3444787 https://www.youtube.com/watch?v=mkRbIRH1jVQ\n",
      "3531724 https://www.youtube.com/watch?v=UIcV-QjcRU0\n",
      "3610125 https://www.youtube.com/watch?v=moMZWUufgHc\n",
      "3657701 https://www.youtube.com/watch?v=gWBtSUlUXDQ\n",
      "3672797 https://www.youtube.com/watch?v=vWKqeJxzeBc\n",
      "379765 https://www.youtube.com/watch?v=U7fMhTd3M6c\n",
      "3716868 https://www.youtube.com/watch?v=CoxbChncFxY\n",
      "3720192 https://www.youtube.com/watch?v=y2-4t_v7r4k\n",
      "3720513 https://www.youtube.com/watch?v=EgDW5DIM34g\n",
      "3721246 https://www.youtube.com/watch?v=pmVPUJDGLwc\n",
      "3738741 https://www.youtube.com/watch?v=-ZQYGLrnknE\n",
      "3740612 https://www.youtube.com/watch?v=NkJKbeDcMF4\n",
      "3761551 https://www.youtube.com/watch?v=pfFRbNWXEaE\n",
      "3765107 https://www.youtube.com/watch?v=MJmC0CwoBSs\n",
      "384451 https://www.youtube.com/watch?v=ktuDg17vQpI\n",
      "3803508 https://www.youtube.com/watch?v=g9OqQ1PaACg\n",
      "3815971 https://www.youtube.com/watch?v=AUa6dxjC4KA\n",
      "3832063 https://www.youtube.com/watch?v=iTjp_FdkUUc\n",
      "3836425 https://www.youtube.com/watch?v=7vu9XDP3pyc\n",
      "3848453 https://www.youtube.com/watch?v=V8uWZhtusj4\n",
      "3863044 https://www.youtube.com/watch?v=6odT-pOCRmc\n",
      "3865721 https://www.youtube.com/watch?v=jYoumkv_v-4\n",
      "3892613 https://www.youtube.com/watch?v=4FKVpdGOD2c\n",
      "3893124 https://www.youtube.com/watch?v=jbI2o45yZ68\n",
      "392104 https://www.youtube.com/watch?v=cvis3de2u88\n",
      "399188 https://www.youtube.com/watch?v=gL2UgXjLhYo\n",
      "3903510 https://www.youtube.com/watch?v=dZqPH7T87cM\n",
      "3906440 https://www.youtube.com/watch?v=mJx5iHq5C0k\n",
      "3909788 https://www.youtube.com/watch?v=f0oaWZnvCM0\n",
      "3909879 https://www.youtube.com/watch?v=UWot7O2VHvw\n",
      "3914298 https://www.youtube.com/watch?v=jkjqQXX47KE\n",
      "3927843 https://www.youtube.com/watch?v=0HA3hOEFEcI\n",
      "3941179 https://www.youtube.com/watch?v=Bx7OA60PRKg\n",
      "3953590 https://www.youtube.com/watch?v=B5maPrtHAMA\n",
      "3980277 https://www.youtube.com/watch?v=1CJKjWlrDug\n",
      "403075 https://www.youtube.com/watch?v=vr_80UJ9f80\n",
      "403342 https://www.youtube.com/watch?v=oTbSCUY1Z8o\n",
      "4045595 https://www.youtube.com/watch?v=2B8wHGqBxzQ\n",
      "410694 https://www.youtube.com/watch?v=xofhzc1NZ8s\n",
      "411572 https://www.youtube.com/watch?v=hu8qBQOuOLU\n",
      "413514 https://www.youtube.com/watch?v=LOxgmiLhRkw\n",
      "414370 https://www.youtube.com/watch?v=eDMwpVUhxAo\n",
      "4135234 https://www.youtube.com/watch?v=XZ8EN2qfuCs\n",
      "4154160 https://www.youtube.com/watch?v=pKyHX0zqynk\n",
      "4182580 https://www.youtube.com/watch?v=L_n0jN6Tyys\n",
      "4206082 https://www.youtube.com/watch?v=VXSJkq5Dk8o\n",
      "4233871 https://www.youtube.com/watch?v=6yOUf952sYU\n",
      "4271998 https://www.youtube.com/watch?v=LNDE_LDWXW0\n",
      "4277074 https://www.youtube.com/watch?v=KcSbaW5iNtU\n",
      "4285030 https://www.youtube.com/watch?v=dq8X_XXv8EU\n",
      "437216 https://www.youtube.com/watch?v=Uw3lTzzs2V4\n",
      "437520 https://www.youtube.com/watch?v=aPvCkEUi96c\n",
      "4358445 https://www.youtube.com/watch?v=Kzo5DmRe5is\n",
      "4373326 https://www.youtube.com/watch?v=Ob-Vm5yFOTw\n",
      "447391 https://www.youtube.com/watch?v=Pj8qEYj2HUc\n",
      "4452061 https://www.youtube.com/watch?v=dJOJtvTuyPM\n",
      "4467852 https://www.youtube.com/watch?v=QHVgF80PgFY\n",
      "450875 https://www.youtube.com/watch?v=ZjH8_hHtumo\n",
      "4517643 https://www.youtube.com/watch?v=ixJrQKh9kVo\n",
      "4520533 https://www.youtube.com/watch?v=h0L78S_Ln9o\n",
      "4575319 https://www.youtube.com/watch?v=X-hR4wDJFSo\n",
      "4591621 https://www.youtube.com/watch?v=wfweWpV9oqI\n",
      "4617527 https://www.youtube.com/watch?v=W7zDp-yuzH0\n",
      "4654203 https://www.youtube.com/watch?v=i1zxg9imihA\n",
      "4660998 https://www.youtube.com/watch?v=2RH6rEU6b0Y\n",
      "4678901 https://www.youtube.com/watch?v=2XWGKkegso0\n",
      "476212 https://www.youtube.com/watch?v=aYXQUlPd6TU\n",
      "4721853 https://www.youtube.com/watch?v=IuQNLkG_NjQ\n",
      "4736210 https://www.youtube.com/watch?v=Jyw3ECHuVhw\n",
      "4745179 https://www.youtube.com/watch?v=i8sx5Hr7xqs\n",
      "4747597 https://www.youtube.com/watch?v=vUBNXVfZlkA\n",
      "4782477 https://www.youtube.com/watch?v=DBzO4Tud4aI\n",
      "481506 https://www.youtube.com/watch?v=3ypt--VDhmc\n",
      "484004 https://www.youtube.com/watch?v=m6dxGikag5k\n",
      "4803810 https://www.youtube.com/watch?v=DzsZ2qMtEUE\n",
      "4807402 https://www.youtube.com/watch?v=p0tqDtk_gZM\n",
      "4809561 https://www.youtube.com/watch?v=mex4n_uQ41c\n",
      "4853172 https://www.youtube.com/watch?v=B86Yv0G_aks\n",
      "4864801 https://www.youtube.com/watch?v=KA2a8wG0bR0\n",
      "4877975 https://www.youtube.com/watch?v=LruXKbycV5k\n",
      "4892286 https://www.youtube.com/watch?v=EP3phV4mbL4\n",
      "4909753 https://www.youtube.com/watch?v=YI2jdYKmePA\n",
      "4915579 https://www.youtube.com/watch?v=2cK-rkQn4rQ\n",
      "4994111 https://www.youtube.com/watch?v=Utaeaz-tD5s\n",
      "4998787 https://www.youtube.com/watch?v=rXxjfxxPF7s\n",
      "5043778 https://www.youtube.com/watch?v=awW2uuWY9gk\n",
      "5050536 https://www.youtube.com/watch?v=bn6J1mIgpvQ\n",
      "5063483 https://www.youtube.com/watch?v=ceBbQcdhvVk\n",
      "5091726 https://www.youtube.com/watch?v=EJtNuYmPzLA\n",
      "516116 https://www.youtube.com/watch?v=WOpnyTOsw1U\n",
      "5302259 https://www.youtube.com/watch?v=UJUIuy1C0F4\n",
      "5302265 https://www.youtube.com/watch?v=zlr4jR513Rk\n",
      "5321232 https://www.youtube.com/watch?v=iS8mUCdVIbI\n",
      "5383047 https://www.youtube.com/watch?v=AQZ6SNMVNuo\n",
      "544692 https://www.youtube.com/watch?v=2akxW3YReFM\n",
      "552603 https://www.youtube.com/watch?v=ew28LpXAbTg\n",
      "569939 https://www.youtube.com/watch?v=u_dnkNwT6fY\n",
      "5667196 https://www.youtube.com/watch?v=cuTEyIal3uk\n",
      "572264 https://www.youtube.com/watch?v=C2zZQVk1MCY\n",
      "581636 https://www.youtube.com/watch?v=gKMyYoWOb6E\n",
      "589762 https://www.youtube.com/watch?v=ZVkziHe5qBg\n",
      "5893595 https://www.youtube.com/watch?v=t9nNf6ijK4M\n",
      "590573 https://www.youtube.com/watch?v=a_Lkgk6GxVg\n",
      "5945928 https://www.youtube.com/watch?v=rGSR8G3taUQ\n",
      "604175 https://www.youtube.com/watch?v=W-xJ0GLmnUI\n",
      "606716 https://www.youtube.com/watch?v=cAWaCtxH4ac\n",
      "608794 https://www.youtube.com/watch?v=HiP1hiqJDrY\n",
      "6019842 https://www.youtube.com/watch?v=H-KxZe27hUU\n",
      "6023111 https://www.youtube.com/watch?v=szqaT3c9TMc\n",
      "6047757 https://www.youtube.com/watch?v=9gboPjLNiAM\n",
      "616079 https://www.youtube.com/watch?v=dGqnQuKHQy8\n",
      "616759 https://www.youtube.com/watch?v=nh9DVuZ-KX8\n",
      "6270594 https://www.youtube.com/watch?v=mt09lQP8JCE\n",
      "6295613 https://www.youtube.com/watch?v=j8LXjSUpHW8\n",
      "636819 https://www.youtube.com/watch?v=e_AVV9Xu4y0\n",
      "6334894 https://www.youtube.com/watch?v=U11E-zE4z1s\n",
      "6362243 https://www.youtube.com/watch?v=SW3o4weU0tA\n",
      "6375646 https://www.youtube.com/watch?v=B1fBUHXL-BM\n",
      "6381252 https://www.youtube.com/watch?v=P92B1Mkt49A\n",
      "6384398 https://www.youtube.com/watch?v=RnsEf5URYf0\n",
      "647339 https://www.youtube.com/watch?v=f0oaWZnvCM0\n",
      "6428520 https://www.youtube.com/watch?v=48mDorFzXYA\n",
      "654946 https://www.youtube.com/watch?v=o2jW01d2Pt4\n",
      "655393 https://www.youtube.com/watch?v=yvHFU1BSCwI\n",
      "661743 https://www.youtube.com/watch?v=a6D9RjJkRiQ\n",
      "672609 https://www.youtube.com/watch?v=oiu3gSb3YYQ\n",
      "689698 https://www.youtube.com/watch?v=25mO-kkPBMw\n",
      "6846826 https://www.youtube.com/watch?v=jrkyty5IS_I\n",
      "6850823 https://www.youtube.com/watch?v=_OfbAjgVKdY\n",
      "696069 https://www.youtube.com/watch?v=NSsO95j9edA\n",
      "696506 https://www.youtube.com/watch?v=x13qyMqZVvs\n",
      "6973681 https://www.youtube.com/watch?v=VZTIyOomZwo\n",
      "7079266 https://www.youtube.com/watch?v=jf5r3shuw88\n",
      "711916 https://www.youtube.com/watch?v=OfuzIHExZkM\n",
      "715374 https://www.youtube.com/watch?v=xvjToOgvVlo\n",
      "716330 https://www.youtube.com/watch?v=1wI1PyIGYNU\n",
      "7135168 https://www.youtube.com/watch?v=hkAkBFk-hko\n",
      "730439 https://www.youtube.com/watch?v=U__BQp-Rd5w\n",
      "7310087 https://www.youtube.com/watch?v=ncVHmJHahfs\n",
      "746454 https://www.youtube.com/watch?v=1tlf_ejwqi8\n",
      "7582781 https://www.youtube.com/watch?v=v3LD4TBDKsU\n",
      "761997 https://www.youtube.com/watch?v=4YDXqzrwreg\n",
      "762524 https://www.youtube.com/watch?v=Iah_EhGTAZ4\n",
      "764626 https://www.youtube.com/watch?v=9pdy6fQWM74\n",
      "768246 https://www.youtube.com/watch?v=7YfXvR0GuA8\n",
      "768562 https://www.youtube.com/watch?v=05Kxh_BJsWc\n",
      "776369 https://www.youtube.com/watch?v=2b6nnBU-weE\n",
      "7740339 https://www.youtube.com/watch?v=-_4rFP64_lw\n",
      "808823 https://www.youtube.com/watch?v=kS61U7gxEmo\n",
      "816126 https://www.youtube.com/watch?v=V96oTr6iWOY\n",
      "8166956 https://www.youtube.com/watch?v=l2q6qrQMCcw\n",
      "831138 https://www.youtube.com/watch?v=2EdwlNWhPeM\n",
      "835253 https://www.youtube.com/watch?v=MRT23GqOT1Q\n",
      "835763 https://www.youtube.com/watch?v=9d-C45tzIk8\n",
      "8300913 https://www.youtube.com/watch?v=YF_SY7qS5S0\n",
      "849447 https://www.youtube.com/watch?v=hadgj-9DgoI\n",
      "8448417 https://www.youtube.com/watch?v=mIxk3zUsjLM\n",
      "854058 https://www.youtube.com/watch?v=zUGlVU-6uDI\n",
      "858800 https://www.youtube.com/watch?v=Dt4Pb5Khq3k\n",
      "860172 https://www.youtube.com/watch?v=EReK5wvzR8k\n",
      "862993 https://www.youtube.com/watch?v=1R_hkJnIVJ8\n",
      "866141 https://www.youtube.com/watch?v=EPTFNJogwWI\n"
     ]
    },
    {
     "name": "stdout",
     "output_type": "stream",
     "text": [
      "867934 https://www.youtube.com/watch?v=YUS-eqXSSZo\n",
      "8679642 https://www.youtube.com/watch?v=eaznFJJXVLk\n",
      "871701 https://www.youtube.com/watch?v=JhFeNpmug_k\n",
      "874279 https://www.youtube.com/watch?v=6RMnWQePecg\n",
      "8701710 https://www.youtube.com/watch?v=4oSM8e2ozIs\n",
      "8702070 https://www.youtube.com/watch?v=c5UMOX7_eqM\n",
      "8702635 https://www.youtube.com/watch?v=JfxqEJ2-OCQ\n",
      "8727802 https://www.youtube.com/watch?v=EmOeO0jA36w\n",
      "8729266 https://www.youtube.com/watch?v=-h2xWLbXkT8\n",
      "8758660 https://www.youtube.com/watch?v=u8u4_lXHdW8\n",
      "889500 https://www.youtube.com/watch?v=PCA83XEn7Rw\n",
      "8816968 https://www.youtube.com/watch?v=0YUUj3Qkm5I\n",
      "8946828 https://www.youtube.com/watch?v=gOgiTAUGRd4\n",
      "9004034 https://www.youtube.com/watch?v=MKkjTY4Q1Tk\n",
      "9011254 https://www.youtube.com/watch?v=HhSYZlE7JI0\n",
      "9034511 https://www.youtube.com/watch?v=2VNRfYShYIA\n",
      "910751 https://www.youtube.com/watch?v=CoxKOgZ2INg\n",
      "9110293 https://www.youtube.com/watch?v=h0AvGpED86w\n",
      "9159144 https://www.youtube.com/watch?v=HPe9nvIcPRI\n",
      "9236176 https://www.youtube.com/watch?v=TFwnottoFCg\n",
      "939042 https://www.youtube.com/watch?v=FqxWFARPrc8\n",
      "9355528 https://www.youtube.com/watch?v=kIPmht7pPvg\n",
      "954613 https://www.youtube.com/watch?v=O1nG1Rj3jWM\n",
      "957321 https://www.youtube.com/watch?v=mkccARSmsYw\n",
      "9577574 https://www.youtube.com/watch?v=_OO7pSvGtLI\n",
      "9636252 https://www.youtube.com/watch?v=BclbzZq3nWM\n",
      "9676234 https://www.youtube.com/watch?v=3kyIiaSPlfM\n",
      "9735519 https://www.youtube.com/watch?v=oMgQfGSB98Y\n",
      "989427 https://www.youtube.com/watch?v=yR-_nq2UsOc\n",
      "989569 https://www.youtube.com/watch?v=bfle4TS9OA8\n",
      "996304 https://www.youtube.com/watch?v=D_5GbsYyasQ\n",
      "997532 https://www.youtube.com/watch?v=qGIZ2rigw74\n"
     ]
    },
    {
     "data": {
      "text/plain": [
       "616"
      ]
     },
     "execution_count": 196,
     "metadata": {},
     "output_type": "execute_result"
    }
   ],
   "source": [
    "count=0\n",
    "for i in range(len(data)):\n",
    "    try:\n",
    "        if 'video' in data[i]['posts'].keys():\n",
    "            print(data[i]['altmetric_id'], data[i]['posts']['video'][0]['url'])\n",
    "            count+=1\n",
    "    except AttributeError:\n",
    "        continue\n",
    "count "
   ]
  },
  {
   "cell_type": "code",
   "execution_count": 197,
   "metadata": {},
   "outputs": [],
   "source": [
    "import matplotlib.pyplot as plt"
   ]
  },
  {
   "cell_type": "code",
   "execution_count": 198,
   "metadata": {},
   "outputs": [
    {
     "data": {
      "text/plain": [
       "0    99384\n",
       "1      616\n",
       "Name: Youtube, dtype: int64"
      ]
     },
     "execution_count": 198,
     "metadata": {},
     "output_type": "execute_result"
    },
    {
     "data": {
      "image/png": "[encoded data removed]",
      "text/plain": [
       "<Figure size 432x288 with 1 Axes>"
      ]
     },
     "metadata": {
      "needs_background": "light"
     },
     "output_type": "display_data"
    }
   ],
   "source": [
    "pd.value_counts(df['Youtube']).plot.bar()\n",
    "plt.title('Youtube class histogram')\n",
    "plt.xlabel('Class')\n",
    "plt.ylabel('Frequency')\n",
    "df['Youtube'].value_counts()"
   ]
  },
  {
   "cell_type": "markdown",
   "metadata": {},
   "source": [
    "# The data is highly imbalanced,  just 616 papers were posted in youtube out of 100,000 samples"
   ]
  },
  {
   "cell_type": "markdown",
   "metadata": {},
   "source": [
    "# Using KNN as classifier - look at recall value "
   ]
  },
  {
   "cell_type": "code",
   "execution_count": 199,
   "metadata": {},
   "outputs": [],
   "source": [
    "from sklearn.neighbors import KNeighborsClassifier\n",
    "from sklearn.model_selection import cross_val_score\n",
    "from sklearn.model_selection import train_test_split\n",
    "from sklearn.metrics import confusion_matrix, precision_recall_curve, auc, roc_auc_score, roc_curve, recall_score, classification_report\n",
    "from sklearn.metrics import classification_report\n",
    "from sklearn.metrics import confusion_matrix"
   ]
  },
  {
   "cell_type": "code",
   "execution_count": 200,
   "metadata": {},
   "outputs": [],
   "source": [
    "X=np.array(df.drop(['Youtube','Altmertic Id'], axis=1).values)\n",
    "y=np.array(df['Youtube'].values)\n",
    "X_train,X_test,y_train,y_test=train_test_split(X,y,test_size=0.3,random_state=42)"
   ]
  },
  {
   "cell_type": "code",
   "execution_count": 201,
   "metadata": {},
   "outputs": [],
   "source": [
    "knn = KNeighborsClassifier(n_neighbors=6)\n",
    "knn.fit(X_train,y_train)\n",
    "y_train_pre = knn.predict(X_train)\n",
    "cnf_mat_tra = confusion_matrix(y_train, y_train_pre)"
   ]
  },
  {
   "cell_type": "code",
   "execution_count": 202,
   "metadata": {},
   "outputs": [],
   "source": [
    "import itertools\n",
    "def plot_confusion_matrix(cm, classes,\n",
    "                          normalize=False,\n",
    "                          title='Confusion matrix',\n",
    "                          cmap=plt.cm.Blues):\n",
    "    \"\"\"\n",
    "    This function prints and plots the confusion matrix.\n",
    "    Normalization can be applied by setting `normalize=True`.\n",
    "    \"\"\"\n",
    "    if normalize:\n",
    "        cm = cm.astype('float') / cm.sum(axis=1)[:, np.newaxis]\n",
    "        print(\"Normalized confusion matrix\")\n",
    "    else:\n",
    "        print('Confusion matrix, without normalization')\n",
    "\n",
    "    print(cm)\n",
    "\n",
    "    plt.imshow(cm, interpolation='nearest', cmap=cmap)\n",
    "    plt.title(title)\n",
    "    plt.colorbar()\n",
    "    tick_marks = np.arange(len(classes))\n",
    "    plt.xticks(tick_marks, classes, rotation=45)\n",
    "    plt.yticks(tick_marks, classes)\n",
    "\n",
    "    fmt = '.2f' if normalize else 'd'\n",
    "    thresh = cm.max() / 2.\n",
    "    for i, j in itertools.product(range(cm.shape[0]), range(cm.shape[1])):\n",
    "        plt.text(j, i, format(cm[i, j], fmt),\n",
    "                 horizontalalignment=\"center\",\n",
    "                 color=\"white\" if cm[i, j] > thresh else \"black\")\n",
    "\n",
    "    plt.ylabel('True label')\n",
    "    plt.xlabel('Predicted label')\n",
    "    plt.tight_layout()"
   ]
  },
  {
   "cell_type": "code",
   "execution_count": 203,
   "metadata": {},
   "outputs": [
    {
     "name": "stdout",
     "output_type": "stream",
     "text": [
      "Confusion matrix, without normalization\n",
      "[[69560     9]\n",
      " [  379    52]]\n"
     ]
    },
    {
     "data": {
      "image/png": "[encoded data removed]",
      "text/plain": [
       "<Figure size 432x288 with 2 Axes>"
      ]
     },
     "metadata": {
      "needs_background": "light"
     },
     "output_type": "display_data"
    }
   ],
   "source": [
    "# confusion matrix for the training data\n",
    "class_names = [0,1]\n",
    "plt.figure()\n",
    "plot_confusion_matrix(cnf_mat_tra , classes=class_names, title='Confusion matrix')\n",
    "plt.show()"
   ]
  },
  {
   "cell_type": "code",
   "execution_count": 204,
   "metadata": {},
   "outputs": [
    {
     "name": "stdout",
     "output_type": "stream",
     "text": [
      "[[29810     5]\n",
      " [  172    13]]\n",
      "             precision    recall  f1-score   support\n",
      "\n",
      "          0       0.99      1.00      1.00     29815\n",
      "          1       0.72      0.07      0.13       185\n",
      "\n",
      "avg / total       0.99      0.99      0.99     30000\n",
      "\n"
     ]
    }
   ],
   "source": [
    "y_pred = knn.predict(X_test)\n",
    "conf_mat=confusion_matrix(y_test, y_pred)\n",
    "print(confusion_matrix(y_test, y_pred))\n",
    "print(classification_report(y_test, y_pred))"
   ]
  },
  {
   "cell_type": "markdown",
   "metadata": {},
   "source": [
    "the recall value is 0.07 - too low, caused by the imbalance data"
   ]
  },
  {
   "cell_type": "code",
   "execution_count": 205,
   "metadata": {},
   "outputs": [
    {
     "name": "stdout",
     "output_type": "stream",
     "text": [
      "Confusion matrix, without normalization\n",
      "[[29810     5]\n",
      " [  172    13]]\n"
     ]
    },
    {
     "data": {
      "image/png": "[encoded data removed]",
      "text/plain": [
       "<Figure size 432x288 with 2 Axes>"
      ]
     },
     "metadata": {
      "needs_background": "light"
     },
     "output_type": "display_data"
    }
   ],
   "source": [
    "class_names = [0,1]\n",
    "plt.figure()\n",
    "plot_confusion_matrix(conf_mat , classes=class_names, title='Confusion matrix')\n",
    "plt.show()"
   ]
  },
  {
   "cell_type": "code",
   "execution_count": null,
   "metadata": {},
   "outputs": [],
   "source": []
  },
  {
   "cell_type": "code",
   "execution_count": null,
   "metadata": {},
   "outputs": [],
   "source": []
  },
  {
   "cell_type": "markdown",
   "metadata": {},
   "source": [
    "# Using  SMOTE for this imbalanced data"
   ]
  },
  {
   "cell_type": "code",
   "execution_count": 206,
   "metadata": {},
   "outputs": [],
   "source": [
    "from sklearn.preprocessing import StandardScaler"
   ]
  },
  {
   "cell_type": "code",
   "execution_count": 207,
   "metadata": {},
   "outputs": [],
   "source": [
    "from imblearn.over_sampling import SMOTE\n",
    "from sklearn.linear_model import LogisticRegression"
   ]
  },
  {
   "cell_type": "code",
   "execution_count": 208,
   "metadata": {},
   "outputs": [
    {
     "name": "stdout",
     "output_type": "stream",
     "text": [
      "Number transactions X_train dataset:  (70000, 10)\n",
      "Number transactions y_train dataset:  (70000,)\n",
      "Number transactions X_test dataset:  (30000, 10)\n",
      "Number transactions y_test dataset:  (30000,)\n"
     ]
    }
   ],
   "source": [
    "sm = SMOTE(random_state=2)\n",
    "print(\"Number transactions X_train dataset: \", X_train.shape)\n",
    "print(\"Number transactions y_train dataset: \", y_train.shape)\n",
    "print(\"Number transactions X_test dataset: \", X_test.shape)\n",
    "print(\"Number transactions y_test dataset: \", y_test.shape)"
   ]
  },
  {
   "cell_type": "code",
   "execution_count": 209,
   "metadata": {},
   "outputs": [
    {
     "name": "stdout",
     "output_type": "stream",
     "text": [
      "Before OverSampling, counts of label '1': 431\n",
      "Before OverSampling, counts of label '0': 69569 \n",
      "\n"
     ]
    }
   ],
   "source": [
    "print(\"Before OverSampling, counts of label '1': {}\".format(sum(y_train==1)))\n",
    "print(\"Before OverSampling, counts of label '0': {} \\n\".format(sum(y_train==0)))"
   ]
  },
  {
   "cell_type": "code",
   "execution_count": 210,
   "metadata": {},
   "outputs": [
    {
     "name": "stdout",
     "output_type": "stream",
     "text": [
      "After OverSampling, the shape of train_X: (139138, 10)\n",
      "After OverSampling, the shape of train_y: (139138,) \n",
      "\n"
     ]
    }
   ],
   "source": [
    "sm = SMOTE(random_state=2)\n",
    "X_train_res, y_train_res = sm.fit_sample(X_train, y_train.ravel())\n",
    "print('After OverSampling, the shape of train_X: {}'.format(X_train_res.shape))\n",
    "print('After OverSampling, the shape of train_y: {} \\n'.format(y_train_res.shape))"
   ]
  },
  {
   "cell_type": "code",
   "execution_count": 211,
   "metadata": {},
   "outputs": [
    {
     "name": "stdout",
     "output_type": "stream",
     "text": [
      "After OverSampling, counts of label '1': 69569\n",
      "After OverSampling, counts of label '0': 69569\n"
     ]
    }
   ],
   "source": [
    "print(\"After OverSampling, counts of label '1': {}\".format(sum(y_train_res==1)))\n",
    "print(\"After OverSampling, counts of label '0': {}\".format(sum(y_train_res==0)))"
   ]
  },
  {
   "cell_type": "code",
   "execution_count": 212,
   "metadata": {},
   "outputs": [],
   "source": [
    "from sklearn.model_selection import GridSearchCV"
   ]
  },
  {
   "cell_type": "code",
   "execution_count": 213,
   "metadata": {},
   "outputs": [
    {
     "name": "stdout",
     "output_type": "stream",
     "text": [
      "Fitting 5 folds for each of 10 candidates, totalling 50 fits\n"
     ]
    },
    {
     "name": "stderr",
     "output_type": "stream",
     "text": [
      "[Parallel(n_jobs=3)]: Done  12 tasks      | elapsed:    8.0s\n",
      "[Parallel(n_jobs=3)]: Done  50 out of  50 | elapsed:   25.5s finished\n"
     ]
    },
    {
     "data": {
      "text/plain": [
       "GridSearchCV(cv=5, error_score='raise',\n",
       "       estimator=LogisticRegression(C=1.0, class_weight=None, dual=False, fit_intercept=True,\n",
       "          intercept_scaling=1, max_iter=100, multi_class='ovr', n_jobs=1,\n",
       "          penalty='l2', random_state=None, solver='liblinear', tol=0.0001,\n",
       "          verbose=0, warm_start=False),\n",
       "       fit_params=None, iid=True, n_jobs=3,\n",
       "       param_grid={'C': array([ 1.,  2.,  3.,  4.,  5.,  6.,  7.,  8.,  9., 10.])},\n",
       "       pre_dispatch='2*n_jobs', refit=True, return_train_score='warn',\n",
       "       scoring=None, verbose=5)"
      ]
     },
     "execution_count": 213,
     "metadata": {},
     "output_type": "execute_result"
    }
   ],
   "source": [
    "parameters = {'C': np.linspace(1, 10, 10)}\n",
    "logreg=LogisticRegression()\n",
    "clf = GridSearchCV(logreg, parameters, cv=5, verbose=5, n_jobs=3)\n",
    "clf.fit(X_train_res, y_train_res.ravel())"
   ]
  },
  {
   "cell_type": "code",
   "execution_count": 217,
   "metadata": {},
   "outputs": [
    {
     "data": {
      "text/plain": [
       "6.0"
      ]
     },
     "execution_count": 217,
     "metadata": {},
     "output_type": "execute_result"
    }
   ],
   "source": [
    "clf.best_params_['C']"
   ]
  },
  {
   "cell_type": "code",
   "execution_count": 218,
   "metadata": {},
   "outputs": [
    {
     "name": "stdout",
     "output_type": "stream",
     "text": [
      "[LibLinear]"
     ]
    },
    {
     "data": {
      "text/plain": [
       "LogisticRegression(C=6.0, class_weight=None, dual=False, fit_intercept=True,\n",
       "          intercept_scaling=1, max_iter=100, multi_class='ovr', n_jobs=1,\n",
       "          penalty='l1', random_state=None, solver='liblinear', tol=0.0001,\n",
       "          verbose=5, warm_start=False)"
      ]
     },
     "execution_count": 218,
     "metadata": {},
     "output_type": "execute_result"
    }
   ],
   "source": [
    "lr = LogisticRegression(C=clf.best_params_['C'],penalty='l1', verbose=5)\n",
    "lr.fit(X_train_res, y_train_res.ravel())"
   ]
  },
  {
   "cell_type": "code",
   "execution_count": 219,
   "metadata": {},
   "outputs": [],
   "source": [
    "y_train_pre = lr.predict(X_train)\n",
    "cnf_matrix_tra = confusion_matrix(y_train, y_train_pre)"
   ]
  },
  {
   "cell_type": "code",
   "execution_count": 220,
   "metadata": {},
   "outputs": [
    {
     "name": "stdout",
     "output_type": "stream",
     "text": [
      "[[61830  7739]\n",
      " [  223   208]]\n",
      "             precision    recall  f1-score   support\n",
      "\n",
      "          0       1.00      0.89      0.94     69569\n",
      "          1       0.03      0.48      0.05       431\n",
      "\n",
      "avg / total       0.99      0.89      0.93     70000\n",
      "\n"
     ]
    }
   ],
   "source": [
    "print(confusion_matrix(y_train, y_train_pre))\n",
    "print(classification_report(y_train, y_train_pre))"
   ]
  },
  {
   "cell_type": "code",
   "execution_count": 221,
   "metadata": {},
   "outputs": [
    {
     "name": "stdout",
     "output_type": "stream",
     "text": [
      "Confusion matrix, without normalization\n",
      "[[61830  7739]\n",
      " [  223   208]]\n"
     ]
    },
    {
     "data": {
      "image/png": "[encoded data removed]",
      "text/plain": [
       "<Figure size 432x288 with 2 Axes>"
      ]
     },
     "metadata": {
      "needs_background": "light"
     },
     "output_type": "display_data"
    }
   ],
   "source": [
    "class_names = [0,1]\n",
    "plt.figure()\n",
    "plot_confusion_matrix(cnf_matrix_tra , classes=class_names, title='Confusion matrix')\n",
    "plt.show()"
   ]
  },
  {
   "cell_type": "code",
   "execution_count": 222,
   "metadata": {},
   "outputs": [
    {
     "name": "stdout",
     "output_type": "stream",
     "text": [
      "             precision    recall  f1-score   support\n",
      "\n",
      "          0       1.00      0.89      0.94     29815\n",
      "          1       0.03      0.49      0.05       185\n",
      "\n",
      "avg / total       0.99      0.89      0.93     30000\n",
      "\n",
      "Confusion matrix, without normalization\n",
      "[[26486  3329]\n",
      " [   94    91]]\n"
     ]
    },
    {
     "data": {
      "image/png": "[encoded data removed]",
      "text/plain": [
       "<Figure size 432x288 with 2 Axes>"
      ]
     },
     "metadata": {
      "needs_background": "light"
     },
     "output_type": "display_data"
    }
   ],
   "source": [
    "y_pred = lr.predict(X_test)\n",
    "cnf_matrix = confusion_matrix(y_test, y_pred)\n",
    "class_names = [0,1]\n",
    "print(classification_report(y_test, y_pred))\n",
    "plt.figure()\n",
    "plot_confusion_matrix(cnf_matrix , classes=class_names, title='Confusion matrix')\n",
    "plt.show()"
   ]
  },
  {
   "cell_type": "code",
   "execution_count": 223,
   "metadata": {},
   "outputs": [
    {
     "name": "stdout",
     "output_type": "stream",
     "text": [
      "Recall metric in the testing dataset: 0.4918918918918919\n"
     ]
    }
   ],
   "source": [
    "print(\"Recall metric in the testing dataset: {}\".format(cnf_matrix[1,1]/(cnf_matrix[1,0]+cnf_matrix[1,1])))\n"
   ]
  },
  {
   "cell_type": "markdown",
   "metadata": {},
   "source": [
    "# Recall value - 0.49 (using KNN the recall value is 0.03)"
   ]
  },
  {
   "cell_type": "code",
   "execution_count": 224,
   "metadata": {},
   "outputs": [
    {
     "name": "stdout",
     "output_type": "stream",
     "text": [
      "[LibLinear]"
     ]
    },
    {
     "data": {
      "image/png": "[encoded data removed]",
      "text/plain": [
       "<Figure size 432x288 with 1 Axes>"
      ]
     },
     "metadata": {
      "needs_background": "light"
     },
     "output_type": "display_data"
    }
   ],
   "source": [
    "tmp = lr.fit(X_train_res, y_train_res.ravel())\n",
    "y_pred_sample_score = tmp.decision_function(X_test)\n",
    "\n",
    "\n",
    "fpr, tpr, thresholds = roc_curve(y_test, y_pred_sample_score)\n",
    "\n",
    "roc_auc = auc(fpr,tpr)\n",
    "\n",
    "# Plot ROC\n",
    "plt.title('Receiver Operating Characteristic')\n",
    "plt.plot(fpr, tpr, 'b',label='AUC = %0.3f'% roc_auc)\n",
    "plt.legend(loc='lower right')\n",
    "plt.plot([0,1],[0,1],'r--')\n",
    "plt.xlim([-0.1,1.0])\n",
    "plt.ylim([-0.1,1.01])\n",
    "plt.ylabel('True Positive Rate')\n",
    "plt.xlabel('False Positive Rate')\n",
    "plt.show()"
   ]
  },
  {
   "cell_type": "code",
   "execution_count": 225,
   "metadata": {},
   "outputs": [
    {
     "data": {
      "text/plain": [
       "0.7552991193440631"
      ]
     },
     "execution_count": 225,
     "metadata": {},
     "output_type": "execute_result"
    }
   ],
   "source": [
    "roc_auc"
   ]
  },
  {
   "cell_type": "code",
   "execution_count": null,
   "metadata": {},
   "outputs": [],
   "source": []
  },
  {
   "cell_type": "markdown",
   "metadata": {},
   "source": [
    "# Using SVM as calssifier"
   ]
  },
  {
   "cell_type": "code",
   "execution_count": 22,
   "metadata": {},
   "outputs": [],
   "source": [
    "from sklearn import svm\n",
    "from sklearn import metrics"
   ]
  },
  {
   "cell_type": "code",
   "execution_count": null,
   "metadata": {},
   "outputs": [],
   "source": [
    "clf = svm.SVC(kernel='linear')\n",
    "clf.fit(X_train,y_train)"
   ]
  },
  {
   "cell_type": "code",
   "execution_count": null,
   "metadata": {},
   "outputs": [],
   "source": [
    "y_pred = clf.predict(X_test)\n",
    "print(\"Accuracy:\",metrics.accuracy_score(y_test, y_pred))"
   ]
  },
  {
   "cell_type": "code",
   "execution_count": null,
   "metadata": {},
   "outputs": [],
   "source": []
  },
  {
   "cell_type": "code",
   "execution_count": 164,
   "metadata": {},
   "outputs": [
    {
     "data": {
      "text/plain": [
       "dict_keys(['altmetric_id', 'counts', 'citation', 'altmetric_score', 'demographics', 'posts'])"
      ]
     },
     "execution_count": 164,
     "metadata": {},
     "output_type": "execute_result"
    }
   ],
   "source": [
    "data[2].keys()"
   ]
  },
  {
   "cell_type": "code",
   "execution_count": 173,
   "metadata": {},
   "outputs": [
    {
     "data": {
      "text/plain": [
       "{'abstract': 'Discovering that drug entities already approved for one disease are effective treatments for other distinct diseases can be highly beneficial and cost effective. To do this predictively, our conjecture is that a semantic infrastructure linking mechanistic relationships between pharmacologic entities and multidimensional knowledge of biological systems and disease processes will be highly enabling.',\n",
       " 'abstract_source': 'pubmed',\n",
       " 'altmetric_jid': '4f6fa4d03cf058f6100007a9',\n",
       " 'authors': ['Xiaoyan A Qu',\n",
       "  'Ranga C Gudivada',\n",
       "  'Anil G Jegga',\n",
       "  'Eric K Neumann',\n",
       "  'Bruce J Aronow'],\n",
       " 'doi': '10.1186/1471-2105-10-s5-s4',\n",
       " 'issns': ['1471-2105'],\n",
       " 'journal': 'BMC Bioinformatics',\n",
       " 'last_mentioned_on': 1300738560,\n",
       " 'links': ['http://www.ncbi.nlm.nih.gov/pubmed/19426461'],\n",
       " 'pmid': '19426461',\n",
       " 'pubdate': '2009-01-01T00:00:00+00:00',\n",
       " 'publisher': 'BioMed Central',\n",
       " 'publisher_subjects': [{'name': 'Biological Sciences', 'scheme': 'era'},\n",
       "  {'name': 'Information And Computing Sciences', 'scheme': 'era'},\n",
       "  {'name': 'Mathematical Sciences', 'scheme': 'era'}],\n",
       " 'scopus_subjects': ['Life Sciences',\n",
       "  'Physical Sciences',\n",
       "  'Biochemistry, Genetics and Molecular Biology',\n",
       "  'Computer Science'],\n",
       " 'subjects': ['computationalbiology'],\n",
       " 'title': 'Inferring novel disease indications for known drugs by semantically linking drug action and disease mechanism relationships.',\n",
       " 'type': 'article',\n",
       " 'volume': '10 Suppl 5',\n",
       " 'mendeley_url': 'http://www.mendeley.com/research/inferring-novel-disease-indications-known-drugs-semantically-linking-drug-action-disease-mechanism-r'}"
      ]
     },
     "execution_count": 173,
     "metadata": {},
     "output_type": "execute_result"
    }
   ],
   "source": [
    "data[2]['citation']"
   ]
  },
  {
   "cell_type": "code",
   "execution_count": 167,
   "metadata": {},
   "outputs": [
    {
     "data": {
      "text/plain": [
       "'BioMed Central'"
      ]
     },
     "execution_count": 167,
     "metadata": {},
     "output_type": "execute_result"
    }
   ],
   "source": [
    "data[2]['citation']['publisher']"
   ]
  },
  {
   "cell_type": "code",
   "execution_count": 172,
   "metadata": {},
   "outputs": [
    {
     "data": {
      "text/plain": [
       "7741"
      ]
     },
     "execution_count": 172,
     "metadata": {},
     "output_type": "execute_result"
    }
   ],
   "source": [
    "j=[]\n",
    "for i in range(len(data)):\n",
    "    try:\n",
    "        if data[i]['citation']['publisher'] not in j:\n",
    "            j.append(data[i]['citation']['publisher'])\n",
    "    except KeyError:\n",
    "        continue\n",
    "len(j)"
   ]
  },
  {
   "cell_type": "code",
   "execution_count": null,
   "metadata": {},
   "outputs": [],
   "source": []
  },
  {
   "cell_type": "code",
   "execution_count": null,
   "metadata": {},
   "outputs": [],
   "source": []
  }
 ],
 "metadata": {
  "kernelspec": {
   "display_name": "Python 3",
   "language": "python",
   "name": "python3"
  },
  "language_info": {
   "codemirror_mode": {
    "name": "ipython",
    "version": 3
   },
   "file_extension": ".py",
   "mimetype": "text/x-python",
   "name": "python",
   "nbconvert_exporter": "python",
   "pygments_lexer": "ipython3",
   "version": "3.7.0"
  }
 },
 "nbformat": 4,
 "nbformat_minor": 2
}
